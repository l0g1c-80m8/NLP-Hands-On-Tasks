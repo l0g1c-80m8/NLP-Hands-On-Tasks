{
 "cells": [
  {
   "cell_type": "code",
   "execution_count": 1,
   "metadata": {},
   "outputs": [],
   "source": [
    "import nltk"
   ]
  },
  {
   "cell_type": "code",
   "execution_count": 2,
   "metadata": {},
   "outputs": [
    {
     "name": "stdout",
     "output_type": "stream",
     "text": [
      "(S\n",
      "  the/DT\n",
      "  little/JJ\n",
      "  yellow/JJ\n",
      "  (NP dog/NN)\n",
      "  barked/VBD\n",
      "  at/IN\n",
      "  (NP the/DT cat/NN))\n"
     ]
    }
   ],
   "source": [
    "sentence = [(\"the\", \"DT\"), (\"little\", \"JJ\"), (\"yellow\", \"JJ\"),\n",
    "            (\"dog\", \"NN\"), (\"barked\", \"VBD\"), (\"at\", \"IN\"),\n",
    "            (\"the\", \"DT\"), (\"cat\", \"NN\")]\n",
    "grammar = 'NP: {<DT>?<JJJ>*<NN>}'\n",
    "#productions from CFG for NP and VP\n",
    "cp = nltk.RegexpParser(grammar)\n",
    "result = cp.parse(sentence)\n",
    "print(result)"
   ]
  },
  {
   "cell_type": "code",
   "execution_count": 3,
   "metadata": {},
   "outputs": [],
   "source": [
    "result.draw()"
   ]
  },
  {
   "cell_type": "code",
   "execution_count": null,
   "metadata": {},
   "outputs": [],
   "source": [
    "sentences = '''Four score and seven years ago our fathers brought forth on this continent, a new nation, \n",
    "            conceived in Liberty, and dedicated to the proposition that all men are created equal. Now we are engaged in \n",
    "            a great civil war, testing whether that nation, or any nation so conceived and so dedicated, can long endure. \n",
    "            We are met on a great battle-field of that war. We have come to dedicate a portion of that field, as a final \n",
    "            resting place for those who here gave their lives that that nation might live. It is altogether fitting and proper \n",
    "            that we should do this. But, in a larger sense, we can not dedicateâ€”we can not consecrateâ€”we can not \n",
    "            hallowâ€”this ground. The brave men, living and dead, who struggled here, have consecrated it, far above our \n",
    "            poor power to add or detract. The world will little note, nor long remember what we say here, but it can never \n",
    "            forget what they did here. It is for us the living, rather, to be dedicated here to the unfinished work which \n",
    "            they who fought here have thus far so nobly advanced. It is rather for us to be here dedicated to the great task \n",
    "            remaining before usâ€”that from these honored dead we take increased devotion to that cause for which they gave \n",
    "            the last full measure of devotionâ€”that we here highly resolve that these dead shall not have died in \n",
    "            vainâ€”that this nation, under God, shall have a new birth of freedomâ€”and that government of the people, by the \n",
    "            people, for the people, shall not perish from the earth.'''"
   ]
  }
 ],
 "metadata": {
  "kernelspec": {
   "display_name": "Python 3",
   "language": "python",
   "name": "python3"
  },
  "language_info": {
   "codemirror_mode": {
    "name": "ipython",
    "version": 3
   },
   "file_extension": ".py",
   "mimetype": "text/x-python",
   "name": "python",
   "nbconvert_exporter": "python",
   "pygments_lexer": "ipython3",
   "version": "3.7.4"
  }
 },
 "nbformat": 4,
 "nbformat_minor": 4
}
