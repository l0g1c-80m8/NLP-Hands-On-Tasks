{
 "cells": [
  {
   "cell_type": "code",
   "execution_count": 1,
   "metadata": {},
   "outputs": [],
   "source": [
    "#@Author: Rutvik Patel (17BCE0729)\n",
    "#@Date: 31 July 2020\n",
    "#@Description: NLTK fundamentals hands on session - scrape and tokenize; CSE4022 class"
   ]
  },
  {
   "cell_type": "code",
   "execution_count": 1,
   "metadata": {},
   "outputs": [
    {
     "name": "stdout",
     "output_type": "stream",
     "text": [
      "[('Cars', 'NNS'), ('is', 'VBZ'), ('a', 'DT'), ('2006', 'JJ'), ('American', 'JJ'), ('computer-animated', 'JJ'), ('road-comedy', 'NN'), ('film', 'NN'), ('produced', 'VBN'), ('by', 'IN'), ('Pixar', 'NNP'), ('Animation', 'NNP'), ('Studios', 'NNP'), ('and', 'CC'), ('released', 'VBN'), ('by', 'IN'), ('Walt', 'NNP'), ('Disney', 'NNP'), ('Pictures', 'NNP'), ('.', '.')]\n",
      "[('The', 'DT'), ('film', 'NN'), ('was', 'VBD'), ('directed', 'VBN'), ('by', 'IN'), ('John', 'NNP'), ('Lasseter', 'NNP'), ('from', 'IN'), ('a', 'DT'), ('screenplay', 'NN'), ('by', 'IN'), ('Dan', 'NNP'), ('Fogelman', 'NNP'), (',', ','), ('Lasseter', 'NNP'), (',', ','), ('Joe', 'NNP'), ('Ranft', 'NNP'), (',', ','), ('Kiel', 'NNP'), ('Murray', 'NNP'), (',', ','), ('Phil', 'NNP'), ('Lorin', 'NNP'), (',', ','), ('and', 'CC'), ('Jorgen', 'NNP'), ('Klubien', 'NNP'), ('and', 'CC'), ('a', 'DT'), ('story', 'NN'), ('by', 'IN'), ('Lasseter', 'NNP'), (',', ','), ('Ranft', 'NNP'), (',', ','), ('and', 'CC'), ('Klubien', 'NNP'), (',', ','), ('and', 'CC'), ('was', 'VBD'), ('the', 'DT'), ('final', 'JJ'), ('film', 'NN'), ('independently', 'RB'), ('produced', 'VBN'), ('by', 'IN'), ('Pixar', 'NNP'), ('before', 'IN'), ('its', 'PRP$'), ('purchase', 'NN'), ('by', 'IN'), ('Disney', 'NNP'), ('in', 'IN'), ('January', 'NNP'), ('2006', 'CD'), ('.', '.')]\n",
      "[('Set', 'NNP'), ('in', 'IN'), ('a', 'DT'), ('world', 'NN'), ('populated', 'VBN'), ('entirely', 'RB'), ('by', 'IN'), ('anthropomorphic', 'JJ'), ('talking', 'VBG'), ('cars', 'NNS'), ('and', 'CC'), ('other', 'JJ'), ('vehicles', 'NNS'), (',', ','), ('the', 'DT'), ('film', 'NN'), ('stars', 'VBZ'), ('the', 'DT'), ('voices', 'NNS'), ('of', 'IN'), ('Owen', 'NNP'), ('Wilson', 'NNP'), (',', ','), ('Paul', 'NNP'), ('Newman', 'NNP'), ('(', '('), ('in', 'IN'), ('his', 'PRP$'), ('final', 'JJ'), ('acting', 'NN'), ('role', 'NN'), (')', ')'), (',', ','), ('Bonnie', 'NNP'), ('Hunt', 'NNP'), (',', ','), ('Larry', 'NNP'), ('the', 'DT'), ('Cable', 'NNP'), ('Guy', 'NNP'), (',', ','), ('Tony', 'NNP'), ('Shalhoub', 'NNP'), (',', ','), ('Cheech', 'NNP'), ('Marin', 'NNP'), (',', ','), ('Michael', 'NNP'), ('Wallis', 'NNP'), (',', ','), ('George', 'NNP'), ('Carlin', 'NNP'), (',', ','), ('Paul', 'NNP'), ('Dooley', 'NNP'), (',', ','), ('Jenifer', 'NNP'), ('Lewis', 'NNP'), (',', ','), ('Guido', 'NNP'), ('Quaroni', 'NNP'), (',', ','), ('Michael', 'NNP'), ('Keaton', 'NNP'), (',', ','), ('Katherine', 'NNP'), ('Helmond', 'NNP'), (',', ','), ('John', 'NNP'), ('Ratzenberger', 'NNP'), ('and', 'CC'), ('Richard', 'NNP'), ('Petty', 'NNP'), (',', ','), ('while', 'IN'), ('race', 'NN'), ('car', 'NN'), ('drivers', 'NNS'), ('Dale', 'NNP'), ('Earnhardt', 'NNP'), ('Jr.', 'NNP'), ('(', '('), ('as', 'IN'), ('``', '``'), ('Junior', 'NNP'), (\"''\", \"''\"), (')', ')'), (',', ','), ('Mario', 'NNP'), ('Andretti', 'NNP'), (',', ','), ('Michael', 'NNP'), ('Schumacher', 'NNP'), ('and', 'CC'), ('car', 'NN'), ('enthusiast', 'NN'), ('Jay', 'NNP'), ('Leno', 'NNP'), ('(', '('), ('as', 'IN'), ('``', '``'), ('Jay', 'NNP'), ('Limo', 'NNP'), (\"''\", \"''\"), (')', ')'), ('voice', 'NN'), ('themselves', 'PRP'), ('.', '.')]\n"
     ]
    }
   ],
   "source": [
    "#Basic text processing pipeline\n",
    "paragraph = '''Cars is a 2006 American computer-animated road-comedy film produced by Pixar Animation Studios \n",
    "and released by Walt Disney Pictures. The film was directed by John Lasseter from a screenplay by Dan Fogelman, \n",
    "Lasseter, Joe Ranft, Kiel Murray, Phil Lorin, and Jorgen Klubien and a story by Lasseter, Ranft, and Klubien, and \n",
    "was the final film independently produced by Pixar before its purchase by Disney in January 2006. Set in a world \n",
    "populated entirely by anthropomorphic talking cars and other vehicles, the film stars the voices of Owen Wilson, \n",
    "Paul Newman (in his final acting role), Bonnie Hunt, Larry the Cable Guy, Tony Shalhoub, Cheech Marin, Michael Wallis, \n",
    "George Carlin, Paul Dooley, Jenifer Lewis, Guido Quaroni, Michael Keaton, Katherine Helmond, John Ratzenberger and \n",
    "Richard Petty, while race car drivers Dale Earnhardt Jr. (as \"Junior\"), Mario Andretti, Michael Schumacher and car \n",
    "enthusiast Jay Leno (as \"Jay Limo\") voice themselves.'''\n",
    "\n",
    "import nltk\n",
    "sentences = nltk.sent_tokenize(paragraph)\n",
    "for sentence in sentences:\n",
    "    words = nltk.word_tokenize(sentence)\n",
    "    tagged = nltk.pos_tag(words)\n",
    "    print(tagged)"
   ]
  },
  {
   "cell_type": "code",
   "execution_count": 2,
   "metadata": {},
   "outputs": [
    {
     "data": {
      "text/plain": [
       "['Support',\n",
       " 'Patio',\n",
       " 'Pizza',\n",
       " 'and',\n",
       " 'its',\n",
       " 'wonderful',\n",
       " 'owner',\n",
       " ',',\n",
       " 'Guy',\n",
       " 'Caligiuri',\n",
       " ',',\n",
       " 'in',\n",
       " 'St',\n",
       " '.',\n",
       " 'James',\n",
       " ',',\n",
       " 'Long',\n",
       " 'Island',\n",
       " '(',\n",
       " 'N',\n",
       " '.',\n",
       " 'Y',\n",
       " '.',\n",
       " ')',\n",
       " '.',\n",
       " 'Great',\n",
       " 'Pizza',\n",
       " '!',\n",
       " '!',\n",
       " '!']"
      ]
     },
     "execution_count": 2,
     "metadata": {},
     "output_type": "execute_result"
    }
   ],
   "source": [
    "#Tweet tokenizer\n",
    "from nltk.tokenize import TweetTokenizer\n",
    "text = 'Support Patio Pizza and its wonderful owner, Guy Caligiuri, in St. James, Long Island (N.Y.). Great Pizza!!!'\n",
    "twtkn = TweetTokenizer()\n",
    "twtkn.tokenize(text)"
   ]
  },
  {
   "cell_type": "code",
   "execution_count": 3,
   "metadata": {},
   "outputs": [
    {
     "data": {
      "text/plain": [
       "list"
      ]
     },
     "execution_count": 3,
     "metadata": {},
     "output_type": "execute_result"
    }
   ],
   "source": [
    "#scraping data from web\n",
    "from urllib import request\n",
    "url = 'http://www.gutenberg.org/files/2554/2554-0.txt'\n",
    "response = request.urlopen(url)\n",
    "raw = response.read().decode('utf8')\n",
    "# type(raw)\n",
    "# len(raw)\n",
    "# raw[ : 75]\n",
    "from nltk.tokenize import word_tokenize\n",
    "tokens = word_tokenize(raw)\n",
    "type(tokens)\n",
    "#HTML -> ASCII -> TEXT -> VOCAB (FUTURE)"
   ]
  },
  {
   "cell_type": "code",
   "execution_count": 8,
   "metadata": {},
   "outputs": [
    {
     "name": "stdout",
     "output_type": "stream",
     "text": [
      "Displaying 17 of 17 matches:\n",
      "n The Signal premiere. Lotsa buyers. Good luck gang listening to the pocast ne\n",
      "so going to enjoy this shower. Feels good to have worked on a trail three time\n",
      "ose not my friend. it was not a very good day so I have a lot to do tomorrow..\n",
      "Oh why cheesecake why? You looked so good evil cake. Now metamucil. Reading: \"\n",
      "utiful day so Im thinking to spend a good part of it outdoors.first stop at St\n",
      "g and ignoring my reaction to a very good friend getting fired. it's like a bi\n",
      "d HDH - url wrist sprain= damn pain. good thing it's not on my left hand. Bein\n",
      " I bet I can throw farther than her. Good luck with that dude. Sure it will al\n",
      " Choppers. first day of eid .. feels good Looking to buy a game called Shut th\n",
      "g. back from the ASLA 6 Congress. :) Good job ASLA CORE! I'm gonna need to ste\n",
      "tching the CNBC video of David Lear. Good job Sean! and now... off to Belize! \n",
      " Mom's cousin's car. this would be a good place for wifi! a hot technology to \n",
      "e Long Tail: Are dead-tree magazines good or bad for the climate? url the mida\n",
      "ortened! url www.last.fm is a really good idea Worst drive I've ever had. Sanj\n",
      " my tivoed shows I missed last week. Good day from fratres this 01.22.08! Ther\n",
      "ill have cause for regret. 01..24.08 Good Day!!! See Pope Benedict's plea for \n",
      ".. , @cleshen, everything went well. Good people! Probably have to go back to \n"
     ]
    }
   ],
   "source": [
    "#handling tweets data\n",
    "import nltk\n",
    "f = open(r'C:\\Users\\Rutvik Patel\\Desktop\\tweets1.txt', 'r')\n",
    "text = f.read()\n",
    "text1 = text.split()\n",
    "text2 = nltk.Text(text1)\n",
    "text2.concordance('good')"
   ]
  },
  {
   "cell_type": "code",
   "execution_count": null,
   "metadata": {},
   "outputs": [],
   "source": []
  }
 ],
 "metadata": {
  "kernelspec": {
   "display_name": "Python 3",
   "language": "python",
   "name": "python3"
  },
  "language_info": {
   "codemirror_mode": {
    "name": "ipython",
    "version": 3
   },
   "file_extension": ".py",
   "mimetype": "text/x-python",
   "name": "python",
   "nbconvert_exporter": "python",
   "pygments_lexer": "ipython3",
   "version": "3.7.4"
  }
 },
 "nbformat": 4,
 "nbformat_minor": 2
}
