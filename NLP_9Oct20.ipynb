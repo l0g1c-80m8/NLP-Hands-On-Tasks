{
 "cells": [
  {
   "cell_type": "code",
   "execution_count": 1,
   "metadata": {},
   "outputs": [],
   "source": [
    "#@Author: Rutvik Patel (17BCE0729)\n",
    "#@Date: 9 October 2020\n",
    "#@Description: Spacy fundamentals hands on session - NERs; CSE4022 class\n",
    "\n",
    "#!pip install -U spacy"
   ]
  },
  {
   "cell_type": "code",
   "execution_count": 2,
   "metadata": {},
   "outputs": [],
   "source": [
    "import spacy\n",
    "m = spacy.load('en_core_web_md')"
   ]
  },
  {
   "cell_type": "code",
   "execution_count": 3,
   "metadata": {},
   "outputs": [],
   "source": [
    "text = '''\n",
    "        Wikipedia began with its first edit on 15 January 2001, two days after the domain was registered \n",
    "        by Jimmy Wales and Larry Sanger. Its technological and conceptual underpinnings predate this; \n",
    "        the earliest known proposal for an online encyclopedia was made by Rick Gates in 1993, and the \n",
    "        concept of a free-as-in-freedom online encyclopedia (as distinct from mere open source)\n",
    "        was proposed by Richard Stallman in December 2000.\n",
    "        Google was founded in September 1998 by Larry Page and Sergey Brin while they were Ph.D. students \n",
    "        at Stanford University in California. Together they own about 14 percent of its shares and control 56 \n",
    "        percent of the stockholder voting power through supervoting stock. They incorporated Google as a \n",
    "        California privately held company on September 4, 1998, in California. Google was then reincorporated in \n",
    "        Delaware on October 22, 2002. An initial public offering (IPO) took place on August 19, 2004, and Google \n",
    "        moved to its headquarters in Mountain View, California, nicknamed the Googleplex.\n",
    "        The Ganges or Ganga is a trans-boundary river of Asia which flows through India and Bangladesh. \n",
    "        The 2,704 km river originates from the Gangotri Glacier of western Himalayas in the Indian state of \n",
    "        Uttarakhand, and flows south and east through the Gangetic Plain of India and Bangladesh, eventually \n",
    "        emptying into the Bay of Bengal.\n",
    "        '''\n",
    "doc = m(text)"
   ]
  },
  {
   "cell_type": "code",
   "execution_count": 4,
   "metadata": {},
   "outputs": [
    {
     "name": "stdout",
     "output_type": "stream",
     "text": [
      "15 January 2001 DATE\n",
      "two days DATE\n",
      "Jimmy Wales PERSON\n",
      "Larry Sanger PERSON\n",
      "encyclopedia ORG\n",
      "Rick Gates PERSON\n",
      "1993 DATE\n",
      "encyclopedia ORG\n",
      "Richard Stallman PERSON\n",
      "December 2000 DATE\n",
      "Google ORG\n",
      "September 1998 DATE\n",
      "Larry Page PERSON\n",
      "Sergey Brin PERSON\n",
      "Ph.D. WORK_OF_ART\n",
      "Stanford University ORG\n",
      "California GPE\n",
      "about 14 percent PERCENT\n",
      "56 \n",
      "        percent PERCENT\n",
      "Google ORG\n",
      "California GPE\n",
      "September 4, 1998 DATE\n",
      "California GPE\n",
      "Google ORG\n",
      "Delaware GPE\n",
      "October 22, 2002 DATE\n",
      "August 19, 2004 DATE\n",
      "Google ORG\n",
      "Mountain View GPE\n",
      "California GPE\n",
      "Googleplex ORG\n",
      "Ganga PERSON\n",
      "Asia LOC\n",
      "India GPE\n",
      "Bangladesh GPE\n",
      "2,704 km QUANTITY\n",
      "the Gangotri Glacier LOC\n",
      "Indian NORP\n",
      "Uttarakhand GPE\n",
      "the Gangetic Plain of India LOC\n",
      "Bangladesh GPE\n",
      "the Bay of Bengal LOC\n"
     ]
    }
   ],
   "source": [
    "for entity in doc.ents:\n",
    "    print(entity.text, entity.label_)"
   ]
  },
  {
   "cell_type": "markdown",
   "metadata": {},
   "source": [
    "spaCy supports the following entity types: <br>\n",
    "PERSON, NORP (nationalities, religious and political groups), FAC (buildings, airports etc.), ORG (organizations), GPE (countries, cities etc.), LOC (mountain ranges, water bodies etc.), PRODUCT (products), EVENT (event names), WORK_OF_ART (books, song titles), LAW (legal document titles), LANGUAGE (named languages), DATE, TIME, PERCENT, MONEY, QUANTITY, ORDINAL and CARDINAL."
   ]
  },
  {
   "cell_type": "code",
   "execution_count": 5,
   "metadata": {},
   "outputs": [
    {
     "data": {
      "text/plain": [
       "['Delhi', 'Sydney', 'BBDO South', 'Georgia-Pacific']"
      ]
     },
     "execution_count": 5,
     "metadata": {},
     "output_type": "execute_result"
    }
   ],
   "source": [
    "#Querying\n",
    "locs = [\n",
    "    ('Omnicom', 'IN', 'New York'),\n",
    "    ('DDB Needham', 'IN', 'New York'),\n",
    "    ('Delhi', 'IN', 'India'),\n",
    "    ('Sydney', 'NOT IN', 'India'),\n",
    "    ('DDB Needham', 'IN', 'New York'),\n",
    "    ('Kaplan Thaler Group', 'IN', 'New York'),\n",
    "    ('BBDO South', 'IN', 'Atlanta'),\n",
    "    ('Georgia-Pacific', 'IN', 'Atlanta')\n",
    "]\n",
    "query = [ent1 for (ent1, relation, ent2) in locs if ent2 == 'India' or ent2 == 'Atlanta']\n",
    "query"
   ]
  }
 ],
 "metadata": {
  "kernelspec": {
   "display_name": "Python 3",
   "language": "python",
   "name": "python3"
  },
  "language_info": {
   "codemirror_mode": {
    "name": "ipython",
    "version": 3
   },
   "file_extension": ".py",
   "mimetype": "text/x-python",
   "name": "python",
   "nbconvert_exporter": "python",
   "pygments_lexer": "ipython3",
   "version": "3.7.4"
  }
 },
 "nbformat": 4,
 "nbformat_minor": 2
}
